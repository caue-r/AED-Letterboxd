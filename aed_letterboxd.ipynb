{
 "cells": [
  {
   "cell_type": "markdown",
   "id": "9f4ca600-3899-49e3-83a3-b1540d9474c9",
   "metadata": {},
   "source": [
    "#### Importação das bibliotecas"
   ]
  },
  {
   "cell_type": "code",
   "execution_count": 1,
   "id": "4b78c846-ed57-4637-b0b0-02f9294cb018",
   "metadata": {},
   "outputs": [],
   "source": [
    "import pandas as pd\n",
    "import numpy as np\n",
    "import matplotlib.pyplot as plt\n",
    "import seaborn as sns"
   ]
  },
  {
   "cell_type": "markdown",
   "id": "6b549cd5-f848-4af8-b57a-a199d8cc7e59",
   "metadata": {},
   "source": [
    "#### Carregando os dados"
   ]
  },
  {
   "cell_type": "code",
   "execution_count": 2,
   "id": "94303397-81c4-4948-b531-508964a97b20",
   "metadata": {},
   "outputs": [],
   "source": [
    "actors = pd.read_csv('actors.csv')\n",
    "countries = pd.read_csv('countries.csv')\n",
    "crew = pd.read_csv('crew.csv')\n",
    "genres = pd.read_csv('genres.csv')\n",
    "languages = pd.read_csv('languages.csv')\n",
    "movies = pd.read_csv('movies.csv')\n",
    "releases = pd.read_csv('releases.csv')\n",
    "studios = pd.read_csv('studios.csv')\n",
    "themes = pd.read_csv('themes.csv')"
   ]
  },
  {
   "cell_type": "markdown",
   "id": "d6ac2360-1514-4724-b63f-eb2ce8c60b87",
   "metadata": {},
   "source": [
    "#### Exploração inicial dos dados"
   ]
  },
  {
   "cell_type": "code",
   "execution_count": 4,
   "id": "fe1c96ff-b4fe-4cb6-a4ee-de7505d85fc6",
   "metadata": {},
   "outputs": [
    {
     "data": {
      "text/html": [
       "<div>\n",
       "<style scoped>\n",
       "    .dataframe tbody tr th:only-of-type {\n",
       "        vertical-align: middle;\n",
       "    }\n",
       "\n",
       "    .dataframe tbody tr th {\n",
       "        vertical-align: top;\n",
       "    }\n",
       "\n",
       "    .dataframe thead th {\n",
       "        text-align: right;\n",
       "    }\n",
       "</style>\n",
       "<table border=\"1\" class=\"dataframe\">\n",
       "  <thead>\n",
       "    <tr style=\"text-align: right;\">\n",
       "      <th></th>\n",
       "      <th>id</th>\n",
       "      <th>name</th>\n",
       "      <th>date</th>\n",
       "      <th>tagline</th>\n",
       "      <th>description</th>\n",
       "      <th>minute</th>\n",
       "      <th>rating</th>\n",
       "    </tr>\n",
       "  </thead>\n",
       "  <tbody>\n",
       "    <tr>\n",
       "      <th>0</th>\n",
       "      <td>1000001</td>\n",
       "      <td>Barbie</td>\n",
       "      <td>2023.0</td>\n",
       "      <td>She's everything. He's just Ken.</td>\n",
       "      <td>Barbie and Ken are having the time of their li...</td>\n",
       "      <td>114.0</td>\n",
       "      <td>3.86</td>\n",
       "    </tr>\n",
       "    <tr>\n",
       "      <th>1</th>\n",
       "      <td>1000002</td>\n",
       "      <td>Parasite</td>\n",
       "      <td>2019.0</td>\n",
       "      <td>Act like you own the place.</td>\n",
       "      <td>All unemployed, Ki-taek's family takes peculia...</td>\n",
       "      <td>133.0</td>\n",
       "      <td>4.56</td>\n",
       "    </tr>\n",
       "    <tr>\n",
       "      <th>2</th>\n",
       "      <td>1000003</td>\n",
       "      <td>Everything Everywhere All at Once</td>\n",
       "      <td>2022.0</td>\n",
       "      <td>The universe is so much bigger than you realize.</td>\n",
       "      <td>An aging Chinese immigrant is swept up in an i...</td>\n",
       "      <td>140.0</td>\n",
       "      <td>4.30</td>\n",
       "    </tr>\n",
       "    <tr>\n",
       "      <th>3</th>\n",
       "      <td>1000004</td>\n",
       "      <td>Fight Club</td>\n",
       "      <td>1999.0</td>\n",
       "      <td>Mischief. Mayhem. Soap.</td>\n",
       "      <td>A ticking-time-bomb insomniac and a slippery s...</td>\n",
       "      <td>139.0</td>\n",
       "      <td>4.27</td>\n",
       "    </tr>\n",
       "    <tr>\n",
       "      <th>4</th>\n",
       "      <td>1000005</td>\n",
       "      <td>La La Land</td>\n",
       "      <td>2016.0</td>\n",
       "      <td>Here's to the fools who dream.</td>\n",
       "      <td>Mia, an aspiring actress, serves lattes to mov...</td>\n",
       "      <td>129.0</td>\n",
       "      <td>4.09</td>\n",
       "    </tr>\n",
       "  </tbody>\n",
       "</table>\n",
       "</div>"
      ],
      "text/plain": [
       "        id                               name    date  \\\n",
       "0  1000001                             Barbie  2023.0   \n",
       "1  1000002                           Parasite  2019.0   \n",
       "2  1000003  Everything Everywhere All at Once  2022.0   \n",
       "3  1000004                         Fight Club  1999.0   \n",
       "4  1000005                         La La Land  2016.0   \n",
       "\n",
       "                                            tagline  \\\n",
       "0                  She's everything. He's just Ken.   \n",
       "1                       Act like you own the place.   \n",
       "2  The universe is so much bigger than you realize.   \n",
       "3                           Mischief. Mayhem. Soap.   \n",
       "4                    Here's to the fools who dream.   \n",
       "\n",
       "                                         description  minute  rating  \n",
       "0  Barbie and Ken are having the time of their li...   114.0    3.86  \n",
       "1  All unemployed, Ki-taek's family takes peculia...   133.0    4.56  \n",
       "2  An aging Chinese immigrant is swept up in an i...   140.0    4.30  \n",
       "3  A ticking-time-bomb insomniac and a slippery s...   139.0    4.27  \n",
       "4  Mia, an aspiring actress, serves lattes to mov...   129.0    4.09  "
      ]
     },
     "execution_count": 4,
     "metadata": {},
     "output_type": "execute_result"
    }
   ],
   "source": [
    "movies.head()"
   ]
  },
  {
   "cell_type": "code",
   "execution_count": 5,
   "id": "91eba6a2-cef4-4498-b42c-90ec69ea7ea7",
   "metadata": {},
   "outputs": [
    {
     "name": "stdout",
     "output_type": "stream",
     "text": [
      "<class 'pandas.core.frame.DataFrame'>\n",
      "RangeIndex: 941597 entries, 0 to 941596\n",
      "Data columns (total 7 columns):\n",
      " #   Column       Non-Null Count   Dtype  \n",
      "---  ------       --------------   -----  \n",
      " 0   id           941597 non-null  int64  \n",
      " 1   name         941587 non-null  object \n",
      " 2   date         849684 non-null  float64\n",
      " 3   tagline      139387 non-null  object \n",
      " 4   description  780785 non-null  object \n",
      " 5   minute       760027 non-null  float64\n",
      " 6   rating       90999 non-null   float64\n",
      "dtypes: float64(3), int64(1), object(3)\n",
      "memory usage: 50.3+ MB\n"
     ]
    }
   ],
   "source": [
    "movies.info()"
   ]
  },
  {
   "cell_type": "code",
   "execution_count": 6,
   "id": "ad22812a-ec0d-4c3c-afb1-4148fbd839ff",
   "metadata": {},
   "outputs": [
    {
     "data": {
      "text/html": [
       "<div>\n",
       "<style scoped>\n",
       "    .dataframe tbody tr th:only-of-type {\n",
       "        vertical-align: middle;\n",
       "    }\n",
       "\n",
       "    .dataframe tbody tr th {\n",
       "        vertical-align: top;\n",
       "    }\n",
       "\n",
       "    .dataframe thead th {\n",
       "        text-align: right;\n",
       "    }\n",
       "</style>\n",
       "<table border=\"1\" class=\"dataframe\">\n",
       "  <thead>\n",
       "    <tr style=\"text-align: right;\">\n",
       "      <th></th>\n",
       "      <th>id</th>\n",
       "      <th>name</th>\n",
       "      <th>date</th>\n",
       "      <th>tagline</th>\n",
       "      <th>description</th>\n",
       "      <th>minute</th>\n",
       "      <th>rating</th>\n",
       "    </tr>\n",
       "  </thead>\n",
       "  <tbody>\n",
       "    <tr>\n",
       "      <th>count</th>\n",
       "      <td>9.415970e+05</td>\n",
       "      <td>941587</td>\n",
       "      <td>849684.000000</td>\n",
       "      <td>139387</td>\n",
       "      <td>780785</td>\n",
       "      <td>760027.000000</td>\n",
       "      <td>90999.000000</td>\n",
       "    </tr>\n",
       "    <tr>\n",
       "      <th>unique</th>\n",
       "      <td>NaN</td>\n",
       "      <td>795421</td>\n",
       "      <td>NaN</td>\n",
       "      <td>135521</td>\n",
       "      <td>763348</td>\n",
       "      <td>NaN</td>\n",
       "      <td>NaN</td>\n",
       "    </tr>\n",
       "    <tr>\n",
       "      <th>top</th>\n",
       "      <td>NaN</td>\n",
       "      <td>Home</td>\n",
       "      <td>NaN</td>\n",
       "      <td>animation short</td>\n",
       "      <td>Mexican feature film</td>\n",
       "      <td>NaN</td>\n",
       "      <td>NaN</td>\n",
       "    </tr>\n",
       "    <tr>\n",
       "      <th>freq</th>\n",
       "      <td>NaN</td>\n",
       "      <td>143</td>\n",
       "      <td>NaN</td>\n",
       "      <td>100</td>\n",
       "      <td>893</td>\n",
       "      <td>NaN</td>\n",
       "      <td>NaN</td>\n",
       "    </tr>\n",
       "    <tr>\n",
       "      <th>mean</th>\n",
       "      <td>1.470799e+06</td>\n",
       "      <td>NaN</td>\n",
       "      <td>1998.522300</td>\n",
       "      <td>NaN</td>\n",
       "      <td>NaN</td>\n",
       "      <td>65.776516</td>\n",
       "      <td>3.244043</td>\n",
       "    </tr>\n",
       "    <tr>\n",
       "      <th>std</th>\n",
       "      <td>2.718158e+05</td>\n",
       "      <td>NaN</td>\n",
       "      <td>27.534865</td>\n",
       "      <td>NaN</td>\n",
       "      <td>NaN</td>\n",
       "      <td>154.828161</td>\n",
       "      <td>0.417281</td>\n",
       "    </tr>\n",
       "    <tr>\n",
       "      <th>min</th>\n",
       "      <td>1.000001e+06</td>\n",
       "      <td>NaN</td>\n",
       "      <td>1874.000000</td>\n",
       "      <td>NaN</td>\n",
       "      <td>NaN</td>\n",
       "      <td>1.000000</td>\n",
       "      <td>0.880000</td>\n",
       "    </tr>\n",
       "    <tr>\n",
       "      <th>25%</th>\n",
       "      <td>1.235400e+06</td>\n",
       "      <td>NaN</td>\n",
       "      <td>1986.000000</td>\n",
       "      <td>NaN</td>\n",
       "      <td>NaN</td>\n",
       "      <td>15.000000</td>\n",
       "      <td>3.020000</td>\n",
       "    </tr>\n",
       "    <tr>\n",
       "      <th>50%</th>\n",
       "      <td>1.470799e+06</td>\n",
       "      <td>NaN</td>\n",
       "      <td>2010.000000</td>\n",
       "      <td>NaN</td>\n",
       "      <td>NaN</td>\n",
       "      <td>62.000000</td>\n",
       "      <td>3.300000</td>\n",
       "    </tr>\n",
       "    <tr>\n",
       "      <th>75%</th>\n",
       "      <td>1.706198e+06</td>\n",
       "      <td>NaN</td>\n",
       "      <td>2019.000000</td>\n",
       "      <td>NaN</td>\n",
       "      <td>NaN</td>\n",
       "      <td>92.000000</td>\n",
       "      <td>3.510000</td>\n",
       "    </tr>\n",
       "    <tr>\n",
       "      <th>max</th>\n",
       "      <td>1.941597e+06</td>\n",
       "      <td>NaN</td>\n",
       "      <td>2031.000000</td>\n",
       "      <td>NaN</td>\n",
       "      <td>NaN</td>\n",
       "      <td>72000.000000</td>\n",
       "      <td>4.690000</td>\n",
       "    </tr>\n",
       "  </tbody>\n",
       "</table>\n",
       "</div>"
      ],
      "text/plain": [
       "                  id    name           date          tagline  \\\n",
       "count   9.415970e+05  941587  849684.000000           139387   \n",
       "unique           NaN  795421            NaN           135521   \n",
       "top              NaN    Home            NaN  animation short   \n",
       "freq             NaN     143            NaN              100   \n",
       "mean    1.470799e+06     NaN    1998.522300              NaN   \n",
       "std     2.718158e+05     NaN      27.534865              NaN   \n",
       "min     1.000001e+06     NaN    1874.000000              NaN   \n",
       "25%     1.235400e+06     NaN    1986.000000              NaN   \n",
       "50%     1.470799e+06     NaN    2010.000000              NaN   \n",
       "75%     1.706198e+06     NaN    2019.000000              NaN   \n",
       "max     1.941597e+06     NaN    2031.000000              NaN   \n",
       "\n",
       "                 description         minute        rating  \n",
       "count                 780785  760027.000000  90999.000000  \n",
       "unique                763348            NaN           NaN  \n",
       "top     Mexican feature film            NaN           NaN  \n",
       "freq                     893            NaN           NaN  \n",
       "mean                     NaN      65.776516      3.244043  \n",
       "std                      NaN     154.828161      0.417281  \n",
       "min                      NaN       1.000000      0.880000  \n",
       "25%                      NaN      15.000000      3.020000  \n",
       "50%                      NaN      62.000000      3.300000  \n",
       "75%                      NaN      92.000000      3.510000  \n",
       "max                      NaN   72000.000000      4.690000  "
      ]
     },
     "execution_count": 6,
     "metadata": {},
     "output_type": "execute_result"
    }
   ],
   "source": [
    "movies.describe(include='all')"
   ]
  },
  {
   "cell_type": "code",
   "execution_count": 7,
   "id": "fd9e51bd-969f-43a3-a60b-de8c6d399ae5",
   "metadata": {},
   "outputs": [
    {
     "data": {
      "text/plain": [
       "id                  0\n",
       "name               10\n",
       "date            91913\n",
       "tagline        802210\n",
       "description    160812\n",
       "minute         181570\n",
       "rating         850598\n",
       "dtype: int64"
      ]
     },
     "execution_count": 7,
     "metadata": {},
     "output_type": "execute_result"
    }
   ],
   "source": [
    "movies.isnull().sum()"
   ]
  },
  {
   "cell_type": "code",
   "execution_count": 12,
   "id": "207e1385-5609-478c-b0ce-86a10617a744",
   "metadata": {},
   "outputs": [],
   "source": [
    "movies = movies.dropna(subset=['name', 'rating'])"
   ]
  },
  {
   "cell_type": "code",
   "execution_count": 15,
   "id": "4c88a138-74ff-4c08-b8c8-941eed8a5df3",
   "metadata": {},
   "outputs": [],
   "source": [
    "movies = movies.drop(columns=['tagline'])"
   ]
  },
  {
   "cell_type": "code",
   "execution_count": 16,
   "id": "80a0890a-9b89-4a7b-8731-a17d38949a22",
   "metadata": {},
   "outputs": [
    {
     "name": "stdout",
     "output_type": "stream",
     "text": [
      "Média: 100.70987565625863\n",
      "Mediana: 94.0\n",
      "Moda: 90.0\n"
     ]
    }
   ],
   "source": [
    "print(\"Média:\", movies['minute'].mean())\n",
    "print(\"Mediana:\", movies['minute'].median())\n",
    "print(\"Moda:\", movies['minute'].mode().iloc[0])"
   ]
  },
  {
   "cell_type": "code",
   "execution_count": 17,
   "id": "e94aef3e-2743-4137-8b4f-6dda6bb46683",
   "metadata": {},
   "outputs": [],
   "source": [
    "mediana_duracao = movies['minute'].median()\n",
    "movies['minute'] = movies['minute'].fillna(mediana_duracao)"
   ]
  },
  {
   "cell_type": "code",
   "execution_count": 18,
   "id": "0867727f-2cfc-458c-8790-a48cfbb44d98",
   "metadata": {},
   "outputs": [
    {
     "data": {
      "text/plain": [
       "id               0\n",
       "name             0\n",
       "date             0\n",
       "description    596\n",
       "minute           0\n",
       "rating           0\n",
       "dtype: int64"
      ]
     },
     "execution_count": 18,
     "metadata": {},
     "output_type": "execute_result"
    }
   ],
   "source": [
    "movies.isnull().sum()"
   ]
  },
  {
   "cell_type": "code",
   "execution_count": 57,
   "id": "c35fe5ff-95e0-47ad-9a82-6d2ade5879b0",
   "metadata": {},
   "outputs": [],
   "source": [
    "movies = movies[movies['minute'] < 1000]"
   ]
  },
  {
   "cell_type": "markdown",
   "id": "555c6d37-3b40-4b61-80a4-a21308a881d5",
   "metadata": {},
   "source": [
    "##### Removendo entradas órfãs "
   ]
  },
  {
   "cell_type": "code",
   "execution_count": 19,
   "id": "b1f007e4-ef77-4d2a-adce-ab538bf6e279",
   "metadata": {},
   "outputs": [],
   "source": [
    "valid_ids = set(movies['id'])"
   ]
  },
  {
   "cell_type": "code",
   "execution_count": 21,
   "id": "158cc433-7fc8-43f1-b7e8-60dc96c86bd7",
   "metadata": {},
   "outputs": [],
   "source": [
    "actors = actors[actors['id'].isin(valid_ids)]"
   ]
  },
  {
   "cell_type": "code",
   "execution_count": 22,
   "id": "a65171f9-7225-4e5b-b52d-60b9a266242a",
   "metadata": {},
   "outputs": [],
   "source": [
    "crew = crew[crew['id'].isin(valid_ids)]"
   ]
  },
  {
   "cell_type": "code",
   "execution_count": 23,
   "id": "192d1f65-6ab7-4a3f-be8b-288484291fee",
   "metadata": {},
   "outputs": [],
   "source": [
    "genres = genres[genres['id'].isin(valid_ids)]"
   ]
  },
  {
   "cell_type": "code",
   "execution_count": 24,
   "id": "589eb738-d4ea-44b4-9253-3ca1ad81378e",
   "metadata": {},
   "outputs": [],
   "source": [
    "languages = languages[languages['id'].isin(valid_ids)]"
   ]
  },
  {
   "cell_type": "code",
   "execution_count": 25,
   "id": "c08f590c-2aa0-4940-8426-8b2d3b3f16ca",
   "metadata": {},
   "outputs": [],
   "source": [
    "themes = themes[themes['id'].isin(valid_ids)]"
   ]
  },
  {
   "cell_type": "code",
   "execution_count": 26,
   "id": "ed59b8bf-652b-458c-bd8a-2f2fa6530543",
   "metadata": {},
   "outputs": [],
   "source": [
    "releases = releases[releases['id'].isin(valid_ids)]"
   ]
  },
  {
   "cell_type": "code",
   "execution_count": 27,
   "id": "06b15ad5-55a3-4410-810a-c0ab15b16997",
   "metadata": {},
   "outputs": [
    {
     "name": "stderr",
     "output_type": "stream",
     "text": [
      "C:\\Users\\cauer\\AppData\\Local\\Temp\\ipykernel_7116\\1435335708.py:2: SettingWithCopyWarning: \n",
      "A value is trying to be set on a copy of a slice from a DataFrame\n",
      "\n",
      "See the caveats in the documentation: https://pandas.pydata.org/pandas-docs/stable/user_guide/indexing.html#returning-a-view-versus-a-copy\n",
      "  df.rename(columns={'id': 'movie_id'}, inplace=True)\n"
     ]
    }
   ],
   "source": [
    "for df in [studios, crew, actors, genres, themes, languages, releases]:\n",
    "    df.rename(columns={'id': 'movie_id'}, inplace=True)"
   ]
  },
  {
   "cell_type": "code",
   "execution_count": 28,
   "id": "0e8c79ea-b248-455b-910c-785e6366e323",
   "metadata": {},
   "outputs": [
    {
     "name": "stdout",
     "output_type": "stream",
     "text": [
      "Index(['movie_id', 'name', 'role'], dtype='object')\n"
     ]
    }
   ],
   "source": [
    "print(actors.columns)"
   ]
  },
  {
   "cell_type": "markdown",
   "id": "481b64c3-3991-476d-be40-48fbdde5ad2a",
   "metadata": {},
   "source": [
    "#### Análise"
   ]
  },
  {
   "cell_type": "code",
   "execution_count": 52,
   "id": "95cbba19-b85a-4cdb-9f51-356d4e1dbc5a",
   "metadata": {},
   "outputs": [],
   "source": [
    "def aplicar_tema_letterboxd():\n",
    "    verde_letterboxd = '#00E054'\n",
    "    fundo_preto = '#121212'\n",
    "    cinza_claro = '#CCCCCC'\n",
    "    grade = '#444444'\n",
    "\n",
    "    plt.rcParams.update({\n",
    "        'axes.facecolor': fundo_preto,\n",
    "        'axes.edgecolor': cinza_claro,\n",
    "        'axes.labelcolor': cinza_claro,\n",
    "        'axes.titlesize': 14,\n",
    "        'axes.titleweight': 'bold',\n",
    "        'axes.titlecolor': cinza_claro,\n",
    "        'figure.facecolor': fundo_preto,\n",
    "        'figure.edgecolor': fundo_preto,\n",
    "        'grid.color': grade,\n",
    "        'grid.alpha': 0.5,\n",
    "        'text.color': cinza_claro,\n",
    "        'xtick.color': cinza_claro,\n",
    "        'ytick.color': cinza_claro,\n",
    "        'xtick.labelsize': 10,\n",
    "        'ytick.labelsize': 10,\n",
    "        'font.size': 12\n",
    "    })\n",
    "\n",
    "    sns.set_style(\"darkgrid\", {\n",
    "        \"axes.facecolor\": fundo_preto,\n",
    "        \"grid.color\": grade,\n",
    "        \"xtick.color\": cinza_claro,\n",
    "        \"ytick.color\": cinza_claro,\n",
    "        \"text.color\": cinza_claro\n",
    "    })\n",
    "\n",
    "    def aplicar_cores_eixos(fig):\n",
    "        for ax in fig.axes:\n",
    "            ax.xaxis.label.set_color(cinza_claro)\n",
    "            ax.yaxis.label.set_color(cinza_claro)\n",
    "\n",
    "    old_show = plt.show\n",
    "    def new_show(*args, **kwargs):\n",
    "        fig = plt.gcf()\n",
    "        aplicar_cores_eixos(fig)\n",
    "        return old_show(*args, **kwargs)\n",
    "    \n",
    "    plt.show = new_show"
   ]
  },
  {
   "cell_type": "code",
   "execution_count": 60,
   "id": "d6581b2e-8c8e-4709-b586-d654f94e2e62",
   "metadata": {},
   "outputs": [
    {
     "data": {
      "image/png": "[encoded data removed]",
      "text/plain": [
       "<Figure size 1000x600 with 1 Axes>"
      ]
     },
     "metadata": {},
     "output_type": "display_data"
    }
   ],
   "source": [
    "aplicar_tema_letterboxd()\n",
    "\n",
    "plt.figure(figsize=(10, 6), facecolor='#121212')\n",
    "sns.histplot(movies['rating'], bins=20, kde=True, color='#00E054')\n",
    "\n",
    "plt.title('Distribuição das notas dos filmes')\n",
    "plt.xlabel('Nota')\n",
    "plt.ylabel('Quantidade de filmes')\n",
    "plt.show()"
   ]
  },
  {
   "cell_type": "markdown",
   "id": "db64d284-d2f6-4707-b409-464394772f65",
   "metadata": {
    "jp-MarkdownHeadingCollapsed": true
   },
   "source": [
    "O gráfico acima mostra a distribuição das avaliações dos filmes presentes no dataset. É possível observar que a maior parte dos filmes recebe notas entre 3.0 e 4.0, com uma concentração maior em torno de 3.5. Isso indica uma tendência de avaliações neutras ou levemente positivas, o que é comum em plataformas públicas onde os usuários tendem a assistir — e avaliar — filmes que já têm algum apelo ou reputação.\n",
    "\n",
    "A presença de poucos filmes com notas muito baixas (abaixo de 2.0) sugere que títulos considerados ruins podem não ser assistidos ou avaliados com tanta frequência. Por outro lado, filmes com notas extremamente altas (acima de 4.5) também são raros, indicando que avaliações excepcionalmente boas são restritas a poucos títulos.\n",
    "\n",
    "A curva levemente assimétrica revela um viés positivo nas notas, possivelmente refletindo tanto a curadoria do acervo quanto o comportamento do público em geral."
   ]
  },
  {
   "cell_type": "markdown",
   "id": "d07dc153-da95-4957-b42e-0ff47e3e4329",
   "metadata": {},
   "source": [
    "#### Top 1% e Bottom 1%"
   ]
  },
  {
   "cell_type": "code",
   "execution_count": 44,
   "id": "80966180-4f61-40d5-87f4-9681fdc853f1",
   "metadata": {},
   "outputs": [
    {
     "name": "stdout",
     "output_type": "stream",
     "text": [
      "Top 1%: notas acima de 4.15\n",
      "Bottom 1%: notas abaixo de 2.01\n"
     ]
    }
   ],
   "source": [
    "top_1_limite = movies['rating'].quantile(0.99)\n",
    "bottom_1_limite = movies['rating'].quantile(0.01)\n",
    "\n",
    "print(f\"Top 1%: notas acima de {top_1_limite:.2f}\")\n",
    "print(f\"Bottom 1%: notas abaixo de {bottom_1_limite:.2f}\")"
   ]
  },
  {
   "cell_type": "code",
   "execution_count": 45,
   "id": "e2c49df0-3a4b-4504-9c11-0a242dde4fa5",
   "metadata": {},
   "outputs": [],
   "source": [
    "top_filmes = movies[movies['rating'] >= top_1_limite].sort_values(by='rating', ascending=False)\n",
    "bottom_filmes = movies[movies['rating'] <= bottom_1_limite].sort_values(by='rating')"
   ]
  },
  {
   "cell_type": "code",
   "execution_count": 46,
   "id": "0229b54d-e0d2-444c-b7d4-760c08ec69b9",
   "metadata": {},
   "outputs": [
    {
     "name": "stdout",
     "output_type": "stream",
     "text": [
      "🎬 Filmes no Top 1% das notas:\n"
     ]
    },
    {
     "data": {
      "text/html": [
       "<div>\n",
       "<style scoped>\n",
       "    .dataframe tbody tr th:only-of-type {\n",
       "        vertical-align: middle;\n",
       "    }\n",
       "\n",
       "    .dataframe tbody tr th {\n",
       "        vertical-align: top;\n",
       "    }\n",
       "\n",
       "    .dataframe thead th {\n",
       "        text-align: right;\n",
       "    }\n",
       "</style>\n",
       "<table border=\"1\" class=\"dataframe\">\n",
       "  <thead>\n",
       "    <tr style=\"text-align: right;\">\n",
       "      <th></th>\n",
       "      <th>name</th>\n",
       "      <th>date</th>\n",
       "      <th>rating</th>\n",
       "    </tr>\n",
       "  </thead>\n",
       "  <tbody>\n",
       "    <tr>\n",
       "      <th>863</th>\n",
       "      <td>Harakiri</td>\n",
       "      <td>1962.0</td>\n",
       "      <td>4.69</td>\n",
       "    </tr>\n",
       "    <tr>\n",
       "      <th>1982</th>\n",
       "      <td>Band of Brothers</td>\n",
       "      <td>2001.0</td>\n",
       "      <td>4.69</td>\n",
       "    </tr>\n",
       "    <tr>\n",
       "      <th>1236</th>\n",
       "      <td>Stop Making Sense</td>\n",
       "      <td>1984.0</td>\n",
       "      <td>4.68</td>\n",
       "    </tr>\n",
       "    <tr>\n",
       "      <th>4267</th>\n",
       "      <td>Radiohead: In Rainbows – From the Basement</td>\n",
       "      <td>2008.0</td>\n",
       "      <td>4.66</td>\n",
       "    </tr>\n",
       "    <tr>\n",
       "      <th>1635</th>\n",
       "      <td>Cowboy Bebop</td>\n",
       "      <td>1998.0</td>\n",
       "      <td>4.65</td>\n",
       "    </tr>\n",
       "    <tr>\n",
       "      <th>3376</th>\n",
       "      <td>Fullmetal Alchemist: Brotherhood</td>\n",
       "      <td>2009.0</td>\n",
       "      <td>4.65</td>\n",
       "    </tr>\n",
       "    <tr>\n",
       "      <th>3223</th>\n",
       "      <td>No Half Measures: Creating the Final Season of...</td>\n",
       "      <td>2013.0</td>\n",
       "      <td>4.65</td>\n",
       "    </tr>\n",
       "    <tr>\n",
       "      <th>3447</th>\n",
       "      <td>Monster</td>\n",
       "      <td>2004.0</td>\n",
       "      <td>4.64</td>\n",
       "    </tr>\n",
       "    <tr>\n",
       "      <th>431</th>\n",
       "      <td>Come and See</td>\n",
       "      <td>1985.0</td>\n",
       "      <td>4.64</td>\n",
       "    </tr>\n",
       "    <tr>\n",
       "      <th>238</th>\n",
       "      <td>12 Angry Men</td>\n",
       "      <td>1957.0</td>\n",
       "      <td>4.62</td>\n",
       "    </tr>\n",
       "  </tbody>\n",
       "</table>\n",
       "</div>"
      ],
      "text/plain": [
       "                                                   name    date  rating\n",
       "863                                            Harakiri  1962.0    4.69\n",
       "1982                                   Band of Brothers  2001.0    4.69\n",
       "1236                                  Stop Making Sense  1984.0    4.68\n",
       "4267         Radiohead: In Rainbows – From the Basement  2008.0    4.66\n",
       "1635                                       Cowboy Bebop  1998.0    4.65\n",
       "3376                   Fullmetal Alchemist: Brotherhood  2009.0    4.65\n",
       "3223  No Half Measures: Creating the Final Season of...  2013.0    4.65\n",
       "3447                                            Monster  2004.0    4.64\n",
       "431                                        Come and See  1985.0    4.64\n",
       "238                                        12 Angry Men  1957.0    4.62"
      ]
     },
     "metadata": {},
     "output_type": "display_data"
    },
    {
     "name": "stdout",
     "output_type": "stream",
     "text": [
      "🗑️ Filmes no Bottom 1% das notas:\n"
     ]
    },
    {
     "data": {
      "text/html": [
       "<div>\n",
       "<style scoped>\n",
       "    .dataframe tbody tr th:only-of-type {\n",
       "        vertical-align: middle;\n",
       "    }\n",
       "\n",
       "    .dataframe tbody tr th {\n",
       "        vertical-align: top;\n",
       "    }\n",
       "\n",
       "    .dataframe thead th {\n",
       "        text-align: right;\n",
       "    }\n",
       "</style>\n",
       "<table border=\"1\" class=\"dataframe\">\n",
       "  <thead>\n",
       "    <tr style=\"text-align: right;\">\n",
       "      <th></th>\n",
       "      <th>name</th>\n",
       "      <th>date</th>\n",
       "      <th>rating</th>\n",
       "    </tr>\n",
       "  </thead>\n",
       "  <tbody>\n",
       "    <tr>\n",
       "      <th>4916</th>\n",
       "      <td>Dragonball Evolution</td>\n",
       "      <td>2009.0</td>\n",
       "      <td>0.88</td>\n",
       "    </tr>\n",
       "    <tr>\n",
       "      <th>2812</th>\n",
       "      <td>365 Days</td>\n",
       "      <td>2020.0</td>\n",
       "      <td>1.04</td>\n",
       "    </tr>\n",
       "    <tr>\n",
       "      <th>6746</th>\n",
       "      <td>365 Days: This Day</td>\n",
       "      <td>2022.0</td>\n",
       "      <td>1.06</td>\n",
       "    </tr>\n",
       "    <tr>\n",
       "      <th>1917</th>\n",
       "      <td>The Last Airbender</td>\n",
       "      <td>2010.0</td>\n",
       "      <td>1.07</td>\n",
       "    </tr>\n",
       "    <tr>\n",
       "      <th>9105</th>\n",
       "      <td>Swiped</td>\n",
       "      <td>2018.0</td>\n",
       "      <td>1.09</td>\n",
       "    </tr>\n",
       "    <tr>\n",
       "      <th>2638</th>\n",
       "      <td>Winnie the Pooh: Blood and Honey</td>\n",
       "      <td>2023.0</td>\n",
       "      <td>1.10</td>\n",
       "    </tr>\n",
       "    <tr>\n",
       "      <th>7935</th>\n",
       "      <td>Jeepers Creepers: Reborn</td>\n",
       "      <td>2022.0</td>\n",
       "      <td>1.11</td>\n",
       "    </tr>\n",
       "    <tr>\n",
       "      <th>6336</th>\n",
       "      <td>Disaster Movie</td>\n",
       "      <td>2008.0</td>\n",
       "      <td>1.14</td>\n",
       "    </tr>\n",
       "    <tr>\n",
       "      <th>3538</th>\n",
       "      <td>Slender Man</td>\n",
       "      <td>2018.0</td>\n",
       "      <td>1.18</td>\n",
       "    </tr>\n",
       "    <tr>\n",
       "      <th>15139</th>\n",
       "      <td>2025: The World Enslaved by a Virus</td>\n",
       "      <td>2021.0</td>\n",
       "      <td>1.19</td>\n",
       "    </tr>\n",
       "  </tbody>\n",
       "</table>\n",
       "</div>"
      ],
      "text/plain": [
       "                                      name    date  rating\n",
       "4916                  Dragonball Evolution  2009.0    0.88\n",
       "2812                              365 Days  2020.0    1.04\n",
       "6746                    365 Days: This Day  2022.0    1.06\n",
       "1917                    The Last Airbender  2010.0    1.07\n",
       "9105                                Swiped  2018.0    1.09\n",
       "2638      Winnie the Pooh: Blood and Honey  2023.0    1.10\n",
       "7935              Jeepers Creepers: Reborn  2022.0    1.11\n",
       "6336                        Disaster Movie  2008.0    1.14\n",
       "3538                           Slender Man  2018.0    1.18\n",
       "15139  2025: The World Enslaved by a Virus  2021.0    1.19"
      ]
     },
     "metadata": {},
     "output_type": "display_data"
    }
   ],
   "source": [
    "print(\"🎬 Filmes no Top 1% das notas:\")\n",
    "display(top_filmes[['name', 'date', 'rating']].head(10))\n",
    "\n",
    "print(\"🗑️ Filmes no Bottom 1% das notas:\")\n",
    "display(bottom_filmes[['name', 'date', 'rating']].head(10))"
   ]
  },
  {
   "cell_type": "code",
   "execution_count": 47,
   "id": "a6a251ca-b93a-4e4d-9a50-b61ded30d203",
   "metadata": {},
   "outputs": [],
   "source": [
    "top_1_limite = movies['rating'].quantile(0.99)\n",
    "bottom_1_limite = movies['rating'].quantile(0.01)"
   ]
  },
  {
   "cell_type": "code",
   "execution_count": 48,
   "id": "f902f868-3bdf-4457-bd1b-7cf30d012b3f",
   "metadata": {},
   "outputs": [],
   "source": [
    "top_movies = movies[movies['rating'] >= top_1_limite]\n",
    "bottom_movies = movies[movies['rating'] <= bottom_1_limite]"
   ]
  },
  {
   "cell_type": "code",
   "execution_count": 49,
   "id": "a77b2486-e3d5-4724-a789-46fe55ece1cc",
   "metadata": {},
   "outputs": [],
   "source": [
    "# Top 1%\n",
    "generos_top = genres.merge(top_movies, left_on='movie_id', right_on='id')\n",
    "\n",
    "# Bottom 1%\n",
    "generos_bottom = genres.merge(bottom_movies, left_on='movie_id', right_on='id')"
   ]
  },
  {
   "cell_type": "code",
   "execution_count": 50,
   "id": "5890bfe4-6348-49cb-95e5-d4f09c09ac57",
   "metadata": {},
   "outputs": [],
   "source": [
    "top_counts = generos_top['genre'].value_counts()\n",
    "bottom_counts = generos_bottom['genre'].value_counts()\n",
    "\n",
    "comparacao_generos = pd.DataFrame({\n",
    "    'Top 1%': top_counts,\n",
    "    'Bottom 1%': bottom_counts\n",
    "}).fillna(0).astype(int).sort_values(by='Top 1%', ascending=False)"
   ]
  },
  {
   "cell_type": "code",
   "execution_count": 59,
   "id": "cd4053a2-2c48-4115-a1f2-5257f9537709",
   "metadata": {},
   "outputs": [
    {
     "data": {
      "image/png": "[encoded data removed]",
      "text/plain": [
       "<Figure size 1200x600 with 1 Axes>"
      ]
     },
     "metadata": {},
     "output_type": "display_data"
    }
   ],
   "source": [
    "aplicar_tema_letterboxd()\n",
    "\n",
    "fig, ax = plt.subplots(figsize=(12, 6), facecolor='#121212')  # <- fundo externo\n",
    "comparacao_generos.plot(kind='bar', ax=ax, color=['#00E054', '#FF8000'])\n",
    "\n",
    "ax.set_title('Comparação de gêneros: Top 1% vs Bottom 1% dos filmes')\n",
    "ax.set_xlabel('Gênero')\n",
    "ax.set_ylabel('Número de filmes')\n",
    "ax.tick_params(axis='x', rotation=45)\n",
    "ax.legend(title='Grupo')\n",
    "\n",
    "plt.tight_layout()\n",
    "plt.show()"
   ]
  },
  {
   "cell_type": "markdown",
   "id": "fbd94b3e-1ffa-47a6-9254-e3c4fb3f6d45",
   "metadata": {},
   "source": [
    "O gráfico acima compara a distribuição dos gêneros cinematográficos entre os filmes com as melhores notas (Top 1%) e os com as piores notas (Bottom 1%) no dataset. É possível observar que drama se destaca fortemente entre os filmes bem avaliados, sendo o gênero mais recorrente nesse grupo. Outros gêneros como documentário, animação e música também apresentam presença significativa no Top 1%, sugerindo que obras com caráter mais autoral, reflexivo ou estético tendem a agradar mais o público.\n",
    "\n",
    "Por outro lado, gêneros como terror (horror), thriller, TV movie e ação aparecem com muito mais frequência no Bottom 1%, o que pode indicar uma maior concentração de produções genéricas, de baixo orçamento ou com menor apelo crítico nesses estilos. O gênero comédia também se destaca negativamente, possivelmente por conta da subjetividade do humor e da dificuldade de agradar diferentes públicos.\n",
    "\n",
    "Alguns gêneros como romance, crime e ficção científica aparecem em ambos os extremos, o que sugere que a avaliação depende muito mais da execução do que do gênero em si. De forma geral, a análise indica que gêneros mais profundos ou artísticos têm maior tendência a alcançar avaliações elevadas, enquanto estilos mais populares apresentam maior variabilidade e propensão a críticas negativas."
   ]
  },
  {
   "cell_type": "code",
   "execution_count": null,
   "id": "7cedac62-4a3d-4d99-b821-6557c246c0cb",
   "metadata": {},
   "outputs": [],
   "source": []
  },
  {
   "cell_type": "code",
   "execution_count": null,
   "id": "dce70462-9e18-4596-80dc-b1b789f4f05b",
   "metadata": {},
   "outputs": [],
   "source": []
  },
  {
   "cell_type": "code",
   "execution_count": null,
   "id": "090edd24-16c0-4013-ad45-2c499309a9ce",
   "metadata": {},
   "outputs": [],
   "source": []
  },
  {
   "cell_type": "code",
   "execution_count": null,
   "id": "cd404967-5a71-4072-8d06-e8ad19b10ddc",
   "metadata": {},
   "outputs": [],
   "source": []
  }
 ],
 "metadata": {
  "kernelspec": {
   "display_name": "Python 3 (ipykernel)",
   "language": "python",
   "name": "python3"
  },
  "language_info": {
   "codemirror_mode": {
    "name": "ipython",
    "version": 3
   },
   "file_extension": ".py",
   "mimetype": "text/x-python",
   "name": "python",
   "nbconvert_exporter": "python",
   "pygments_lexer": "ipython3",
   "version": "3.11.9"
  }
 },
 "nbformat": 4,
 "nbformat_minor": 5
}
